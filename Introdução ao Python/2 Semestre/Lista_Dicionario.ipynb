{
 "cells": [
  {
   "cell_type": "markdown",
   "metadata": {},
   "source": [
    "**Luís Felipe Ferreira da Silva BSI-2**"
   ]
  },
  {
   "cell_type": "markdown",
   "metadata": {},
   "source": [
    "1. Crie um dicionário que contenha os nomes de 10 pessoas e suas respectivas  idades.  "
   ]
  },
  {
   "cell_type": "code",
   "execution_count": 74,
   "metadata": {},
   "outputs": [],
   "source": [
    "# Criando o dicionario com 10 nomes\n",
    "Dados = {\n",
    "    \"Luis\": 19,\n",
    "    \"Henrique\": 18,\n",
    "    \"Tomas\": 18,\n",
    "    \"Paulo\": 19,\n",
    "    \"Jose\": 19,\n",
    "    \"Jose Segundo\": 20,\n",
    "    \"Peixoto\": 18,\n",
    "    \"Paulo Cesar\": 64,\n",
    "    \"Vanessa\": 43,\n",
    "    \"Reginaldo\": 45,\n",
    "    \"Ellen\": 17\n",
    "}"
   ]
  },
  {
   "cell_type": "code",
   "execution_count": 75,
   "metadata": {},
   "outputs": [],
   "source": [
    "# Se quiser fazer o dicionário registrando o nome e idade é so descomentar !\n",
    "\n",
    "# while True:\n",
    "#     nome = input(\"Insira o nome (nome vazio encerra o programa): \")\n",
    "#     if nome == \"\":\n",
    "#         break\n",
    "#     elif nome in Dados.keys():\n",
    "#         print(\"O nome já está no Dicionário\")\n",
    "#     else:\n",
    "#         idade = int(input(f\"Forneça a idade de {nome}: \"))\n",
    "#         Dados[nome] = idade"
   ]
  },
  {
   "cell_type": "markdown",
   "metadata": {},
   "source": [
    "2. Imprima o nome e a idade de todas as pessoas no dicionário."
   ]
  },
  {
   "cell_type": "code",
   "execution_count": 76,
   "metadata": {},
   "outputs": [
    {
     "name": "stdout",
     "output_type": "stream",
     "text": [
      "{'Luis': 19, 'Henrique': 18, 'Tomas': 18, 'Paulo': 19, 'Jose': 19, 'Jose Segundo': 20, 'Peixoto': 18, 'Paulo Cesar': 64, 'Vanessa': 43, 'Reginaldo': 45, 'Ellen': 17}\n"
     ]
    }
   ],
   "source": [
    "print(Dados)"
   ]
  },
  {
   "cell_type": "markdown",
   "metadata": {},
   "source": [
    "3. Crie uma função que receba um nome como parâmetro e retorne a idade da  pessoa correspondente no dicionário.  "
   ]
  },
  {
   "cell_type": "code",
   "execution_count": 77,
   "metadata": {},
   "outputs": [
    {
     "name": "stdout",
     "output_type": "stream",
     "text": [
      "A idade de Luis é 19\n"
     ]
    }
   ],
   "source": [
    "def retornar_idade(nome):\n",
    "    if nome in Dados.keys():\n",
    "        return print(f\"A idade de {nome} é {Dados[nome]}\")\n",
    "retornar_idade(\"Luis\")"
   ]
  },
  {
   "cell_type": "markdown",
   "metadata": {},
   "source": [
    "4. Crie uma função que receba um nome e uma nova idade como parâmetros e  atualize a idade da pessoa correspondente no dicionário."
   ]
  },
  {
   "cell_type": "code",
   "execution_count": 78,
   "metadata": {},
   "outputs": [
    {
     "name": "stdout",
     "output_type": "stream",
     "text": [
      "Luis agora tem 20 anos\n"
     ]
    }
   ],
   "source": [
    "def atualizar_idade(nome, idade):\n",
    "    if nome in Dados.keys():\n",
    "        Dados[nome] = idade\n",
    "atualizar_idade(\"Luis\", 20)\n",
    "print(f\"Luis agora tem {Dados[\"Luis\"]} anos\")"
   ]
  },
  {
   "cell_type": "markdown",
   "metadata": {},
   "source": [
    "5. Crie uma função que remova uma pessoa do dicionário.  "
   ]
  },
  {
   "cell_type": "code",
   "execution_count": 79,
   "metadata": {},
   "outputs": [
    {
     "name": "stdout",
     "output_type": "stream",
     "text": [
      "Peixoto foi removido com sucesso.\n"
     ]
    }
   ],
   "source": [
    "def remover_pessoa(nome):\n",
    "    if nome in Dados.keys():\n",
    "        Dados.pop(nome)\n",
    "        print(f\"{nome} foi removido com sucesso.\")\n",
    "remover_pessoa(\"Peixoto\")"
   ]
  },
  {
   "cell_type": "markdown",
   "metadata": {},
   "source": [
    "6. Crie uma função que retorne a quantidade de pessoas no dicionário."
   ]
  },
  {
   "cell_type": "code",
   "execution_count": 80,
   "metadata": {},
   "outputs": [
    {
     "name": "stdout",
     "output_type": "stream",
     "text": [
      "Possuem 10 pessoas registradas no dicionário.\n"
     ]
    }
   ],
   "source": [
    "def quantidade_de_pessoas():\n",
    "    return len(Dados)\n",
    "print(f\"Possuem {quantidade_de_pessoas()} pessoas registradas no dicionário.\")"
   ]
  },
  {
   "cell_type": "markdown",
   "metadata": {},
   "source": [
    "7. Crie uma função que retorne a média das idades das pessoas no dicionário"
   ]
  },
  {
   "cell_type": "code",
   "execution_count": 81,
   "metadata": {},
   "outputs": [
    {
     "name": "stdout",
     "output_type": "stream",
     "text": [
      "A média de idades é: 28 anos\n"
     ]
    }
   ],
   "source": [
    "def media_idades():\n",
    "    media = sum(Dados.values()) / len(Dados)\n",
    "    return media\n",
    "print(f\"A média de idades é: {media_idades():.0f} anos\")"
   ]
  },
  {
   "cell_type": "markdown",
   "metadata": {},
   "source": [
    "8. Crie uma função que retorne a pessoa mais velha do dicionário. "
   ]
  },
  {
   "cell_type": "code",
   "execution_count": 92,
   "metadata": {},
   "outputs": [
    {
     "name": "stdout",
     "output_type": "stream",
     "text": [
      "Paulo Cesar\n",
      "A pessoa mais velha é Paulo Cesar com 64 anos.\n"
     ]
    }
   ],
   "source": [
    "def pessoa_mais_velha():\n",
    "    mais_velho = max(Dados, key=Dados.get)\n",
    "    return mais_velho, Dados[mais_velho]\n",
    "\n",
    "nome, idade = pessoa_mais_velha()\n",
    "print(f\"A pessoa mais velha é {nome} com {idade} anos.\")"
   ]
  },
  {
   "cell_type": "markdown",
   "metadata": {},
   "source": [
    "9. Crie uma função que retorne a pessoa mais nova do dicionário."
   ]
  },
  {
   "cell_type": "code",
   "execution_count": 94,
   "metadata": {},
   "outputs": [
    {
     "name": "stdout",
     "output_type": "stream",
     "text": [
      "A pessoa mais nova é Ellen com 17 anos.\n"
     ]
    }
   ],
   "source": [
    "def pessoa_mais_nova():\n",
    "    mais_velho = min(Dados, key=Dados.get)\n",
    "    return mais_velho, Dados[mais_velho]\n",
    "\n",
    "nome, idade = pessoa_mais_nova()\n",
    "print(f\"A pessoa mais nova é {nome} com {idade} anos.\")"
   ]
  },
  {
   "cell_type": "markdown",
   "metadata": {},
   "source": [
    "10. Crie uma função que retorne uma lista com as pessoas cujo nome começa com a  letra \"J\"."
   ]
  },
  {
   "cell_type": "code",
   "execution_count": 84,
   "metadata": {},
   "outputs": [
    {
     "name": "stdout",
     "output_type": "stream",
     "text": [
      "Jose\n",
      "Jose Segundo\n"
     ]
    }
   ],
   "source": [
    "def iniciam_j():\n",
    "    for nomes in Dados.keys():\n",
    "        if nomes[0:1] == 'J':\n",
    "            print(nomes)\n",
    "iniciam_j()"
   ]
  }
 ],
 "metadata": {
  "kernelspec": {
   "display_name": "Python 3",
   "language": "python",
   "name": "python3"
  },
  "language_info": {
   "codemirror_mode": {
    "name": "ipython",
    "version": 3
   },
   "file_extension": ".py",
   "mimetype": "text/x-python",
   "name": "python",
   "nbconvert_exporter": "python",
   "pygments_lexer": "ipython3",
   "version": "3.12.7"
  }
 },
 "nbformat": 4,
 "nbformat_minor": 2
}
