{
 "cells": [
  {
   "cell_type": "markdown",
   "metadata": {},
   "source": [
    "Exercicio 1 - Adivinhar a palavra"
   ]
  },
  {
   "cell_type": "code",
   "execution_count": 44,
   "metadata": {},
   "outputs": [],
   "source": [
    "import random, time"
   ]
  },
  {
   "cell_type": "code",
   "execution_count": 47,
   "metadata": {},
   "outputs": [
    {
     "name": "stdout",
     "output_type": "stream",
     "text": [
      "lfemi\n",
      "Parabéns, você acertou a palavra.. Continue assim mestre \n",
      "\n",
      "A palavra era filme, você utilizou 1 tentativa(s).\n"
     ]
    }
   ],
   "source": [
    "palavras = [\"Adivinha\", \"Computaria\", \"Aeronave\", \"Embarcar\", \"Filme\", \"Livro\"]\n",
    "\n",
    "def escolher_palavra():\n",
    "    palavraint = random.randrange(len(palavras))\n",
    "    palavra = palavras[palavraint]\n",
    "    return palavra.lower()\n",
    "\n",
    "def embaralhar_palavra(palavra):\n",
    "    palavra_list = list(palavra)\n",
    "    random.shuffle(palavra_list)\n",
    "    palavra_saida = \"\".join(palavra_list)\n",
    "    return palavra_saida\n",
    "\n",
    "\n",
    "def jogar():\n",
    "    palavra = escolher_palavra()\n",
    "    palavra_embaralhada = embaralhar_palavra(palavra)\n",
    "    print(palavra_embaralhada)\n",
    "    time.sleep(1)\n",
    "    chances = 0\n",
    "    tentativas = 5\n",
    "    while tentativas > 0:\n",
    "        tentativa = str(input(f\"A Palavra possui {len(palavra)} letras! (digite em minusculo)\"))\n",
    "        if tentativa == palavra:\n",
    "            print(f\"{frases(1)} \")\n",
    "            print()\n",
    "            tentativas = 0\n",
    "        else:\n",
    "            print(f\"{frases(0)}, ainda restam {tentativas-1} chances!\")\n",
    "            tentativas -= 1\n",
    "        chances += 1\n",
    "    print(f\"A palavra era {palavra}, você utilizou {chances} tentativa(s).\")\n",
    "\n",
    "\n",
    "\n",
    "def frases(x):\n",
    "    Acertou = [\n",
    "        \"Parabéns, você acertou a palavra.. Continue assim mestre\",\n",
    "        \"Tu é um gênio mano.\",\n",
    "        \"Amostradinho ele, veja só\"\n",
    "    ]\n",
    "    Errou = [\n",
    "        \"Foi quase hein guerreiro.\",\n",
    "        \"Calma lá jogador, foi na trave!\",\n",
    "        \"Quase Quase\",\n",
    "    ]\n",
    "    if x == 1:\n",
    "        frase = escolher_frase(Acertou)\n",
    "    else:\n",
    "        frase = escolher_frase(Errou)\n",
    "    return frase\n",
    "    \n",
    "def escolher_frase(x):\n",
    "    frase = random.randrange(len(x))\n",
    "    frase_selecionada = x[frase]\n",
    "    return frase_selecionada\n",
    "\n",
    "jogar()"
   ]
  },
  {
   "cell_type": "markdown",
   "metadata": {},
   "source": [
    "Exercicio 2 - Escolher um tema"
   ]
  },
  {
   "cell_type": "code",
   "execution_count": null,
   "metadata": {},
   "outputs": [],
   "source": []
  }
 ],
 "metadata": {
  "kernelspec": {
   "display_name": "Python 3",
   "language": "python",
   "name": "python3"
  },
  "language_info": {
   "codemirror_mode": {
    "name": "ipython",
    "version": 3
   },
   "file_extension": ".py",
   "mimetype": "text/x-python",
   "name": "python",
   "nbconvert_exporter": "python",
   "pygments_lexer": "ipython3",
   "version": "3.12.6"
  }
 },
 "nbformat": 4,
 "nbformat_minor": 2
}
