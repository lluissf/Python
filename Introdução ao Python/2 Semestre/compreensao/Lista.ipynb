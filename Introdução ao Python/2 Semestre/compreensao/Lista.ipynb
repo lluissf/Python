{
 "cells": [
  {
   "cell_type": "markdown",
   "metadata": {},
   "source": [
    "1. Crie uma lista com os números de 1 a 10 usando compreensão de lista.\n"
   ]
  },
  {
   "cell_type": "code",
   "execution_count": 1,
   "metadata": {},
   "outputs": [
    {
     "name": "stdout",
     "output_type": "stream",
     "text": [
      "[1, 2, 3, 4, 5, 6, 7, 8, 9, 10]\n"
     ]
    }
   ],
   "source": [
    "lista = [x for x in range(1, 11)]\n",
    "print(lista)"
   ]
  },
  {
   "cell_type": "markdown",
   "metadata": {},
   "source": [
    "2. Crie uma lista com os números ímpares de 1 a 50."
   ]
  },
  {
   "cell_type": "code",
   "execution_count": 3,
   "metadata": {},
   "outputs": [
    {
     "name": "stdout",
     "output_type": "stream",
     "text": [
      "[1, 3, 5, 7, 9, 11, 13, 15, 17, 19, 21, 23, 25, 27, 29, 31, 33, 35, 37, 39, 41, 43, 45, 47, 49]\n"
     ]
    }
   ],
   "source": [
    "lista = [x for x in range(1, 51) if x % 2 != 0]\n",
    "print(lista)"
   ]
  },
  {
   "cell_type": "markdown",
   "metadata": {},
   "source": [
    "3. Crie uma lista com as letras maiúsculas de uma string qualquer."
   ]
  },
  {
   "cell_type": "code",
   "execution_count": 33,
   "metadata": {},
   "outputs": [
    {
     "name": "stdout",
     "output_type": "stream",
     "text": [
      "Por favor, Concentrar na prova É Foda De DMS\n",
      "['P', 'C', 'É', 'F', 'D', 'D', 'M', 'S']\n"
     ]
    }
   ],
   "source": [
    "texto = \"Por favor, Concentrar na prova É Foda De DMS\"\n",
    "maiusculas = [x for x in texto if x.isupper()]\n",
    "print(maiusculas)"
   ]
  },
  {
   "cell_type": "markdown",
   "metadata": {},
   "source": [
    "4. Crie uma lista com o comprimento de cada palavra em uma string."
   ]
  },
  {
   "cell_type": "code",
   "execution_count": 4,
   "metadata": {},
   "outputs": [
    {
     "name": "stdout",
     "output_type": "stream",
     "text": [
      "[(4, 'Essa'), (5, 'frase'), (1, 'é'), (5, 'muito'), (3, 'boa')]\n"
     ]
    }
   ],
   "source": [
    "texto = \"Essa frase é muito boa\".split(' ')\n",
    "\n",
    "nova_lista = [(len(x), x) for x in texto]\n",
    "\n",
    "print(nova_lista)"
   ]
  },
  {
   "cell_type": "markdown",
   "metadata": {},
   "source": [
    "5. Crie uma lista com os números divisíveis por 3 e 5 de 1 a 30."
   ]
  },
  {
   "cell_type": "code",
   "execution_count": 10,
   "metadata": {},
   "outputs": [
    {
     "name": "stdout",
     "output_type": "stream",
     "text": [
      "[3, 5, 6, 9, 10, 12, 15, 18, 20, 21, 24, 25, 27, 30]\n"
     ]
    }
   ],
   "source": [
    "opa = [x for x in range(1,31) if x % 3 == 0 or x % 5 == 0]\n",
    "print(opa)"
   ]
  },
  {
   "cell_type": "markdown",
   "metadata": {},
   "source": [
    "6. Crie uma lista com as palavras de uma string que tenham mais de 3 letras."
   ]
  },
  {
   "cell_type": "code",
   "execution_count": null,
   "metadata": {},
   "outputs": [
    {
     "name": "stdout",
     "output_type": "stream",
     "text": [
      "['Essa', 'frase', 'muito', 'para', 'testar', 'também!']\n"
     ]
    }
   ],
   "source": [
    "texto = \"Essa frase é muito boa para se testar também!\"\n",
    "palavras = texto.split(' ')\n",
    "lista = [x for x in palavras if len(x) > 3]\n",
    "print(lista)"
   ]
  },
  {
   "cell_type": "markdown",
   "metadata": {},
   "source": [
    "7. Crie uma lista com os números primos de 1 a 20. Dica: use uma função para\n",
    "verificar se o número é primo ou não."
   ]
  },
  {
   "cell_type": "code",
   "execution_count": 29,
   "metadata": {},
   "outputs": [
    {
     "name": "stdout",
     "output_type": "stream",
     "text": [
      "[2, 3, 5, 7, 11, 13, 17, 19]\n"
     ]
    }
   ],
   "source": [
    "def primo(numero):\n",
    "    if numero <= 1:\n",
    "        return False\n",
    "    elif numero <= 3:\n",
    "        return True\n",
    "    elif numero % 2 == 0 or numero % 3 == 0:\n",
    "        return False\n",
    "        \n",
    "    i = 5\n",
    "    while i * i <= numero:\n",
    "        if numero % i == 0 or numero % (i + 2) == 0:\n",
    "            return False\n",
    "        i += 6\n",
    "    return True\n",
    "\n",
    "\n",
    "lista = [x for x in range(1,21) if primo(x)]\n",
    "print(lista)"
   ]
  },
  {
   "cell_type": "markdown",
   "metadata": {},
   "source": [
    "8. Crie uma lista com as datas de todos os dias de janeiro em um ano bissexto\n",
    "(considerando que um ano bissexto é divisível por 4)."
   ]
  },
  {
   "cell_type": "code",
   "execution_count": 2,
   "metadata": {},
   "outputs": [
    {
     "data": {
      "text/plain": [
       "['01/01/2024',\n",
       " '02/01/2024',\n",
       " '03/01/2024',\n",
       " '04/01/2024',\n",
       " '05/01/2024',\n",
       " '06/01/2024',\n",
       " '07/01/2024',\n",
       " '08/01/2024',\n",
       " '09/01/2024',\n",
       " '10/01/2024',\n",
       " '11/01/2024',\n",
       " '12/01/2024',\n",
       " '13/01/2024',\n",
       " '14/01/2024',\n",
       " '15/01/2024',\n",
       " '16/01/2024',\n",
       " '17/01/2024',\n",
       " '18/01/2024',\n",
       " '19/01/2024',\n",
       " '20/01/2024',\n",
       " '21/01/2024',\n",
       " '22/01/2024',\n",
       " '23/01/2024',\n",
       " '24/01/2024',\n",
       " '25/01/2024',\n",
       " '26/01/2024',\n",
       " '27/01/2024',\n",
       " '28/01/2024',\n",
       " '29/01/2024',\n",
       " '30/01/2024',\n",
       " '31/01/2024']"
      ]
     },
     "execution_count": 2,
     "metadata": {},
     "output_type": "execute_result"
    }
   ],
   "source": [
    "from datetime import datetime, timedelta\n",
    "def verificar_ano(ano):\n",
    "    if ano % 4 ==0:\n",
    "        jan = []\n",
    "        data = datetime(ano, 1, 1)\n",
    "        while data.month == 1:\n",
    "            jan.append(data.strftime(\"%d/%m/%Y\"))\n",
    "            data += timedelta(days=1)\n",
    "        return jan\n",
    "\n",
    "verificar_ano(2024)\n"
   ]
  },
  {
   "cell_type": "markdown",
   "metadata": {},
   "source": [
    "9. Crie uma lista de strings com os primeiros 10 nomes da lista de nomes."
   ]
  },
  {
   "cell_type": "code",
   "execution_count": null,
   "metadata": {},
   "outputs": [
    {
     "name": "stdout",
     "output_type": "stream",
     "text": [
      "['Ellen', 'Bruno', 'Carlos', 'Daniela', 'Eduardo', 'Fernanda', 'Gabriel', 'Nakalski', 'Isabela', 'João', 'Karina']\n"
     ]
    }
   ],
   "source": [
    "\n",
    "nomes = [\n",
    "    \"Ellen\", \"Bruno\", \"Carlos\", \"Daniela\", \"Eduardo\", \"Fernanda\", \"Gabriel\", \n",
    "    \"Nakalski\", \"Isabela\", \"João\", \"Karina\", \"Leonardo\", \"Mariana\", \"Nicolas\", \n",
    "    \"Olivia\", \"Paulo\", \"Renata\", \"Sergio\", \"Tatiana\", \"Vicente\"\n",
    "]\n",
    "\n",
    "strings = [nomes[x] for x in range(0, 11)]\n",
    "print(strings)\n"
   ]
  },
  {
   "cell_type": "markdown",
   "metadata": {},
   "source": [
    "10. Crie uma lista de strings com os nomes dos primeiros 10 nomes da lista de\n",
    "nomes, mas com as primeiras letras maiúsculas."
   ]
  },
  {
   "cell_type": "code",
   "execution_count": 15,
   "metadata": {},
   "outputs": [
    {
     "name": "stdout",
     "output_type": "stream",
     "text": [
      "['Ellen', 'Bruno', 'Carlos', 'Daniela', 'Eduardo', 'Fernanda', 'Gabriel', 'Nakalski', 'Isabela', 'João', 'Karina']\n"
     ]
    }
   ],
   "source": [
    "\n",
    "nomes = [\n",
    "    \"ellen\", \"bruno\", \"carlos\", \"daniela\", \"eduardo\", \"fernanda\", \"gabriel\", \n",
    "    \"nakalski\", \"isabela\", \"joão\", \"karina\", \"Leonardo\", \"Mariana\", \"Nicolas\", \n",
    "    \"Olivia\", \"Paulo\", \"Renata\", \"Sergio\", \"Tatiana\", \"Vicente\"\n",
    "]\n",
    "\n",
    "strings = [nomes[x].capitalize() for x in range(0, 11)]\n",
    "print(strings)\n"
   ]
  },
  {
   "cell_type": "markdown",
   "metadata": {},
   "source": [
    "11. Crie uma lista de strings com os nomes dos primeiros 10 nomes da lista de\n",
    "nomes, mas sem as vogais."
   ]
  },
  {
   "cell_type": "code",
   "execution_count": 14,
   "metadata": {},
   "outputs": [
    {
     "name": "stdout",
     "output_type": "stream",
     "text": [
      "['l l n', 'B r n', 'C r l s', 'D n l', 'd r d', 'F r n n d', 'G b r l', 'N k l s k', 's b l', 'J ã', 'K r n']\n"
     ]
    }
   ],
   "source": [
    "\n",
    "nomes = [\n",
    "    \"Ellen\", \"Bruno\", \"Carlos\", \"Daniela\", \"Eduardo\", \"Fernanda\", \"Gabriel\", \n",
    "    \"Nakalski\", \"Isabela\", \"João\", \"Karina\", \"Leonardo\", \"Mariana\", \"Nicolas\", \n",
    "    \"Olivia\", \"Paulo\", \"Renata\", \"Sergio\", \"Tatiana\", \"Vicente\"\n",
    "]\n",
    "def remover_vogal(nome):\n",
    "    vogais = \"aeiouAEIOU\"\n",
    "    letras = [letra for letra in nome if letra not in vogais]\n",
    "    \n",
    "    return \" \".join(letras)\n",
    "strings = [remover_vogal(nomes[x]) for x in range(0, 11)]\n",
    "print(strings)\n"
   ]
  },
  {
   "cell_type": "markdown",
   "metadata": {},
   "source": [
    "12. Concatenar elementos de sub-listas em uma única lista"
   ]
  },
  {
   "cell_type": "code",
   "execution_count": 16,
   "metadata": {},
   "outputs": [
    {
     "name": "stdout",
     "output_type": "stream",
     "text": [
      "[1, 2, 3, 4, 5, 6]\n"
     ]
    }
   ],
   "source": [
    "sub_listas = [[1, 2], [3, 4], [5, 6]]\n",
    "lista_unica = [item for sub_lista in sub_listas for item in sub_lista]\n",
    "print(lista_unica)"
   ]
  },
  {
   "cell_type": "markdown",
   "metadata": {},
   "source": [
    "13. Criar um dicionário a partir de duas listas"
   ]
  },
  {
   "cell_type": "code",
   "execution_count": 18,
   "metadata": {},
   "outputs": [
    {
     "name": "stdout",
     "output_type": "stream",
     "text": [
      "{'nome': 'Ellen', 'idade': 17, 'cidade': 'União da Vitória'}\n"
     ]
    }
   ],
   "source": [
    "# Lista de chaves\n",
    "chaves = [\"nome\", \"idade\", \"cidade\"]\n",
    "\n",
    "# Lista de valores\n",
    "valores = [\"Ellen\", 17, \"União da Vitória\"]\n",
    "\n",
    "# Criando o dicionário usando list comprehension\n",
    "dicionario = {chave: valor for chave, valor in zip(chaves, valores)}\n",
    "\n",
    "print(dicionario)"
   ]
  }
 ],
 "metadata": {
  "kernelspec": {
   "display_name": "Python 3",
   "language": "python",
   "name": "python3"
  },
  "language_info": {
   "codemirror_mode": {
    "name": "ipython",
    "version": 3
   },
   "file_extension": ".py",
   "mimetype": "text/x-python",
   "name": "python",
   "nbconvert_exporter": "python",
   "pygments_lexer": "ipython3",
   "version": "3.12.7"
  }
 },
 "nbformat": 4,
 "nbformat_minor": 2
}
