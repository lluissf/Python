{
  "cells": [
    {
      "cell_type": "markdown",
      "metadata": {
        "id": "Qsqj8XJBTzP6"
      },
      "source": [
        "#**Dicionários - O que é?**\n",
        "\n",
        "Idêntico as listas, um dicionário é uma coleção mutável de vários valores.\n",
        "\n",
        "Todavia, difentemente das listas, os dicionários podem usar dados de tipos diferentes. Ou seja, não somente valores inteiros. Estes índices, quando se trata de dicionários, são chamados de *chaves* (*keys*), e uma chave, juntamente com o seu valor associado é chamado de *par chave-valor* (*key-value pair*).\n",
        "\n",
        "Quando usado no código, um dicionário é digitado com chaves, isto é, ``{}``.\n",
        "\n",
        "```python\n",
        "myCat = {'size': 'fat', 'color': 'gray', 'disposition': 'loud'}\n",
        "```\n",
        "\n",
        "Observando o trecho de código acima, atribuiu-se um dicionário à variável ``myCat``. As chaves (_keys_) são ``'size'``, ``'color'``, e ``'dispositon'``.\n",
        "\n",
        "Os valores dessas chaves são ``'fat'``, ``'gray'``, e ``'loud'``, respectivamente.\n"
      ]
    },
    {
      "cell_type": "markdown",
      "metadata": {
        "id": "tfn1Xpnma4EG"
      },
      "source": [
        "##**Como acessar estes valores?**\n",
        "\n",
        "```python\n",
        "myCat['size']\n",
        "'fat'\n",
        "```\n",
        "\n",
        "```python\n",
        "print(\"My cat has \" + myCat['color'] + ' fur' )\n",
        "```\n",
        "\n",
        "> **Observação**: dicionários também podem utilizar valores inteiros como chaves, assim como as listas fazem. Porém, elas não precisam começar em 0. E mais, qualquer número pode ser usado. Veja o exemplo abaixo.\n",
        "\n",
        "```python\n",
        "spam = {12345: 'Luggage Combination', 42: 'The Answer'}\n",
        "```\n"
      ]
    },
    {
      "cell_type": "markdown",
      "metadata": {
        "id": "7N7hwdwYIn8o"
      },
      "source": [
        "## **Como adicionar valores a um dicionário?**"
      ]
    },
    {
      "cell_type": "code",
      "execution_count": 12,
      "metadata": {
        "colab": {
          "base_uri": "https://localhost:8080/"
        },
        "id": "ycYn2ZJDI3uz",
        "outputId": "0add1a55-952e-4aac-98e5-f881cfa8233b"
      },
      "outputs": [
        {
          "name": "stdout",
          "output_type": "stream",
          "text": [
            "{'a': 'alpha', 'o': 'omega', 'g': 'gama'}\n"
          ]
        }
      ],
      "source": [
        "# cria um dicionário vazio\n",
        "d = {}\n",
        "\n",
        "#atribui o par (chave-valor)\n",
        "d['a'] = 'alpha'\n",
        "d['o'] = 'omega'\n",
        "d['g'] = 'gama'\n",
        "\n",
        "#d = {'a': 'alpha', 'o': 'omega', 'g': 'gama'}\n",
        "\n",
        "#imprime o dicionário (dict)\n",
        "print(d)"
      ]
    },
    {
      "cell_type": "code",
      "execution_count": 13,
      "metadata": {
        "colab": {
          "base_uri": "https://localhost:8080/",
          "height": 36
        },
        "id": "jvPjl1JBJzVx",
        "outputId": "ba999f25-15a7-47f7-8a60-30f10e483dae"
      },
      "outputs": [
        {
          "data": {
            "application/vnd.google.colaboratory.intrinsic+json": {
              "type": "string"
            },
            "text/plain": [
              "'alpha'"
            ]
          },
          "execution_count": 13,
          "metadata": {},
          "output_type": "execute_result"
        }
      ],
      "source": [
        "# imprime o valor correspondente à chave 'a'\n",
        "d['a']"
      ]
    },
    {
      "cell_type": "code",
      "execution_count": 10,
      "metadata": {
        "colab": {
          "base_uri": "https://localhost:8080/",
          "height": 200
        },
        "id": "DlDPxwatJ51T",
        "outputId": "e4002e2b-86a4-4e07-e087-50ca39dabd06"
      },
      "outputs": [
        {
          "ename": "KeyError",
          "evalue": "ignored",
          "output_type": "error",
          "traceback": [
            "\u001b[0;31m---------------------------------------------------------------------------\u001b[0m",
            "\u001b[0;31mKeyError\u001b[0m                                  Traceback (most recent call last)",
            "\u001b[0;32m<ipython-input-10-34b0b3efbbd9>\u001b[0m in \u001b[0;36m<cell line: 2>\u001b[0;34m()\u001b[0m\n\u001b[1;32m      1\u001b[0m \u001b[0;31m# imprime o valor correspondente à chave 'x'\u001b[0m\u001b[0;34m\u001b[0m\u001b[0;34m\u001b[0m\u001b[0m\n\u001b[0;32m----> 2\u001b[0;31m \u001b[0md\u001b[0m\u001b[0;34m[\u001b[0m\u001b[0;34m'x'\u001b[0m\u001b[0;34m]\u001b[0m\u001b[0;34m\u001b[0m\u001b[0;34m\u001b[0m\u001b[0m\n\u001b[0m",
            "\u001b[0;31mKeyError\u001b[0m: 'x'"
          ]
        }
      ],
      "source": [
        "# imprime o valor correspondente à chave 'x'\n",
        "d['x']"
      ]
    },
    {
      "cell_type": "markdown",
      "metadata": {
        "id": "i_AmIQU_bkuc"
      },
      "source": [
        "##**Dicionários versus Listas**\n",
        "\n",
        "Diferentemente das listas, os itens de um dicionário não estão ordenados. Ou seja, o primeiro item de uma lista ``spam`` será sempre ``spam[0]``. Entretanto, não existe um \"primeiro\" item em um dicionário.\n",
        "\n",
        "Enquanto a ordem dos itens é importante para determinar se duas listas são iguais, não importa em que ordem os pares _chaves-valor_ são digitados em um dicionário. Digite os trechos de código abaixo e execute-os.\n"
      ]
    },
    {
      "cell_type": "code",
      "execution_count": 21,
      "metadata": {
        "colab": {
          "base_uri": "https://localhost:8080/"
        },
        "id": "4O4ZIZ2DTpI7",
        "outputId": "5c4ebf39-711e-4216-b12f-5d64fd28ec0b"
      },
      "outputs": [
        {
          "data": {
            "text/plain": [
              "False"
            ]
          },
          "execution_count": 21,
          "metadata": {},
          "output_type": "execute_result"
        }
      ],
      "source": [
        "spam = ['cats', 'dogs', 'mooses']\n",
        "bacon = ['dogs', 'mooses', 'cats']\n",
        "spam == bacon"
      ]
    },
    {
      "cell_type": "code",
      "execution_count": 22,
      "metadata": {
        "colab": {
          "base_uri": "https://localhost:8080/"
        },
        "id": "o5wKmn7mhT7v",
        "outputId": "ef5df916-04ff-44c9-e3d4-532e00bb581a"
      },
      "outputs": [
        {
          "data": {
            "text/plain": [
              "True"
            ]
          },
          "execution_count": 22,
          "metadata": {},
          "output_type": "execute_result"
        }
      ],
      "source": [
        "eggs = {'name': 'Sophie', 'species': 'cat', 'age': '8'}\n",
        "ham = {'species': 'cat', 'age': '8', 'name': 'Sophie'}\n",
        "eggs == ham"
      ]
    },
    {
      "cell_type": "markdown",
      "metadata": {
        "id": "k3I5aBS0hpkr"
      },
      "source": [
        "> **Observação #1**: Pelo fato de não serem ordenados, dicionários não podem ser fatiados (_sliced_).\n",
        "\n",
        "> **Observação #2**: Caso você tente acessar uma chave inexistente, isto resultará em uma mensagem de erro ``KeyError``, que é semelhante à mensagem ``IndexError`` que se refere a \"fora do intervalo\" (_out-of-range_) em uma lista. Veja o código abaixo.\n",
        "\n",
        "\n",
        "\n"
      ]
    },
    {
      "cell_type": "code",
      "execution_count": 4,
      "metadata": {
        "colab": {
          "base_uri": "https://localhost:8080/",
          "height": 200
        },
        "id": "A0KAcQpV58ss",
        "outputId": "178656df-3309-4cfc-d11b-03c73b895e67"
      },
      "outputs": [
        {
          "ename": "KeyError",
          "evalue": "ignored",
          "output_type": "error",
          "traceback": [
            "\u001b[0;31m---------------------------------------------------------------------------\u001b[0m",
            "\u001b[0;31mKeyError\u001b[0m                                  Traceback (most recent call last)",
            "\u001b[0;32m<ipython-input-4-9369793b066c>\u001b[0m in \u001b[0;36m<cell line: 2>\u001b[0;34m()\u001b[0m\n\u001b[1;32m      1\u001b[0m \u001b[0mspam\u001b[0m \u001b[0;34m=\u001b[0m \u001b[0;34m{\u001b[0m\u001b[0;34m'name'\u001b[0m\u001b[0;34m:\u001b[0m \u001b[0;34m'Sophie'\u001b[0m\u001b[0;34m,\u001b[0m \u001b[0;34m'age'\u001b[0m\u001b[0;34m:\u001b[0m \u001b[0;36m7\u001b[0m\u001b[0;34m}\u001b[0m\u001b[0;34m\u001b[0m\u001b[0;34m\u001b[0m\u001b[0m\n\u001b[0;32m----> 2\u001b[0;31m \u001b[0mspam\u001b[0m\u001b[0;34m[\u001b[0m\u001b[0;34m'color'\u001b[0m\u001b[0;34m]\u001b[0m\u001b[0;34m\u001b[0m\u001b[0;34m\u001b[0m\u001b[0m\n\u001b[0m",
            "\u001b[0;31mKeyError\u001b[0m: 'color'"
          ]
        }
      ],
      "source": [
        "spam = {'name': 'Sophie', 'age': 7}\n",
        "spam['color']"
      ]
    },
    {
      "cell_type": "markdown",
      "metadata": {
        "id": "lyPnPJJX6cgR"
      },
      "source": [
        "Apesar de que os dicionários não estejam ordenados, o fato de poder haver valores arbitrários para chaves permite que você organize seus dados de maneiras eficientes.\n",
        "\n",
        "> Exemplo: suponha que você queira armazenar dados relativos às datas de aniversário de seus amigos. Pode-se usar um dicionário com os nomes como chaves, e as datas de aniversário como valores. Vejamos o código abaixo."
      ]
    },
    {
      "cell_type": "code",
      "execution_count": 2,
      "metadata": {
        "id": "N5aNB9Vn7M03"
      },
      "outputs": [
        {
          "name": "stdout",
          "output_type": "stream",
          "text": [
            "Enter a name: (blank to quit)\n",
            "I do not have birthday information for Luis\n",
            "What is their birthday?\n",
            "Birthday database updated.\n",
            "Enter a name: (blank to quit)\n",
            "August 11 is the birthday of Luis\n",
            "Enter a name: (blank to quit)\n",
            "I do not have birthday information for Henrique\n",
            "What is their birthday?\n",
            "Birthday database updated.\n",
            "Enter a name: (blank to quit)\n",
            "December 2 is the birthday of Henrique\n",
            "Enter a name: (blank to quit)\n",
            "I do not have birthday information for Jose\n",
            "What is their birthday?\n",
            "Birthday database updated.\n",
            "Enter a name: (blank to quit)\n",
            "April 26 is the birthday of Jose\n",
            "Enter a name: (blank to quit)\n",
            "{'Alice': 'Apr 1', 'Bob': 'Dec 12', 'Carol': 'Mar 4', 'Luis': 'August 11', 'Henrique': 'December 2', 'Jose': 'April 26'}\n"
          ]
        }
      ],
      "source": [
        "birthdays = {'Alice': 'Apr 1', 'Bob': 'Dec 12', 'Carol': 'Mar 4'}\n",
        "\n",
        "while True:\n",
        "  print('Enter a name: (blank to quit)')\n",
        "  name = input()\n",
        "  if name == '':\n",
        "    break\n",
        "\n",
        "  if name in birthdays:\n",
        "    print(birthdays[name] + ' is the birthday of ' + name)\n",
        "  else:\n",
        "    print('I do not have birthday information for ' + name)\n",
        "    print('What is their birthday?')\n",
        "    bday = input()\n",
        "    birthdays[name] = bday\n",
        "    print('Birthday database updated.')\n",
        "\n",
        "print(birthdays)"
      ]
    },
    {
      "cell_type": "markdown",
      "metadata": {
        "id": "xKmCYL-H8U_w"
      },
      "source": [
        "> #### **Observação: é claro que todos os dados fornecidos pelo programa acima serão esquecidos quando o programa terminar.**\n",
        "\n",
        "> #### **Futuramente vamos aprender como salvar dados em arquivos no disco rígido do seu computador.**"
      ]
    },
    {
      "cell_type": "markdown",
      "metadata": {
        "id": "3EWNnpziKSsd"
      },
      "source": [
        "## **Métodos ``keys()``, ``values()`` e ``items()``**\n",
        "\n",
        "\n",
        "Existem três métodos de dicionário que retornam valores semelhantes a listas, contendo as chaves (_keys_), os valores (_values_)ou ambos (_items_). Vejamos alguns exemplos."
      ]
    },
    {
      "cell_type": "code",
      "execution_count": 23,
      "metadata": {
        "colab": {
          "base_uri": "https://localhost:8080/"
        },
        "id": "vIbx88xBM_MF",
        "outputId": "d79d70c4-a9a2-464b-93fb-099464aaf3a8"
      },
      "outputs": [
        {
          "name": "stdout",
          "output_type": "stream",
          "text": [
            "red\n",
            "42\n"
          ]
        }
      ],
      "source": [
        "spam = {'color': 'red', 'age': 42}\n",
        "\n",
        "# um loop for faz a iteração e percorre cada um\n",
        "# dos valores no dicionário ``spam``\n",
        "for v in spam.values():\n",
        "  print(v)"
      ]
    },
    {
      "cell_type": "code",
      "execution_count": 24,
      "metadata": {
        "colab": {
          "base_uri": "https://localhost:8080/"
        },
        "id": "23O4j6JSLwC5",
        "outputId": "8f7cc1c4-ea47-43f9-f043-b68fb3abb1fc"
      },
      "outputs": [
        {
          "name": "stdout",
          "output_type": "stream",
          "text": [
            "color\n",
            "age\n"
          ]
        }
      ],
      "source": [
        "# um loop for faz a iteração e percorre cada uma\n",
        "# das chaves no dicionário ``spam``\n",
        "for k in spam.keys():\n",
        "  print(k)"
      ]
    },
    {
      "cell_type": "code",
      "execution_count": 25,
      "metadata": {
        "colab": {
          "base_uri": "https://localhost:8080/"
        },
        "id": "4y21wlAPMSjj",
        "outputId": "2fce58ed-740a-4df8-c1b3-c3c5bce973d4"
      },
      "outputs": [
        {
          "name": "stdout",
          "output_type": "stream",
          "text": [
            "('color', 'red')\n",
            "('age', 42)\n"
          ]
        }
      ],
      "source": [
        "# um loop for faz a iteração e percorre cada um\n",
        "# dos pares chaves-valor no dicinário ``spam``\n",
        "for i in spam.items():\n",
        "  print(i)"
      ]
    },
    {
      "cell_type": "markdown",
      "metadata": {
        "id": "aI2nBng1Nn9N"
      },
      "source": [
        "> Observe que os valores retornados pelo método ``items()`` são tuplas contendo a chave e valor.\n",
        "\n",
        "> Caso queira uma lista de verdade a partir de um desses métodos, passe o valor de retorno semelhante à uma lista, usando a função ``list()``"
      ]
    },
    {
      "cell_type": "code",
      "execution_count": 26,
      "metadata": {
        "colab": {
          "base_uri": "https://localhost:8080/"
        },
        "id": "GtArb7I9MrQs",
        "outputId": "5c9905ad-e291-43fd-94c5-35324c9e7af2"
      },
      "outputs": [
        {
          "data": {
            "text/plain": [
              "['color', 'age']"
            ]
          },
          "execution_count": 26,
          "metadata": {},
          "output_type": "execute_result"
        }
      ],
      "source": [
        "spam = {'color': 'red', 'age': 42}\n",
        "spam.keys()\n",
        "\n",
        "# converte uma tupla em uma lista\n",
        "list(spam.keys())"
      ]
    },
    {
      "cell_type": "markdown",
      "metadata": {
        "id": "owTGteEo3FDZ"
      },
      "source": [
        "> **Você também pode usar o truque de atribuição múltipla em um loop `for` para atribuir a chave e o valor a variáveis separadas. Observe o código abaixo.**"
      ]
    },
    {
      "cell_type": "code",
      "execution_count": 27,
      "metadata": {
        "colab": {
          "base_uri": "https://localhost:8080/"
        },
        "id": "7epC2N4q3V8J",
        "outputId": "72d4511d-fa71-402a-c93f-e6b74bc412ce"
      },
      "outputs": [
        {
          "name": "stdout",
          "output_type": "stream",
          "text": [
            "Key: color Value: red\n",
            "Key: age Value: 42\n"
          ]
        }
      ],
      "source": [
        "spam = {'color': 'red', 'age': 42}\n",
        "for k, v in spam.items():\n",
        "  print('Key: ' + k + ' Value: ' + str(v))"
      ]
    },
    {
      "cell_type": "markdown",
      "metadata": {
        "id": "7dOC9EjE36OC"
      },
      "source": [
        "## **Verificando se uma chave ou valor existe em um dicionário**"
      ]
    },
    {
      "cell_type": "code",
      "execution_count": 31,
      "metadata": {
        "colab": {
          "base_uri": "https://localhost:8080/"
        },
        "id": "qRsBPBth39y6",
        "outputId": "6df33bd2-18df-42a2-f8b1-7c60396d45ad"
      },
      "outputs": [
        {
          "data": {
            "text/plain": [
              "True"
            ]
          },
          "execution_count": 31,
          "metadata": {},
          "output_type": "execute_result"
        }
      ],
      "source": [
        "spam = {'name': 'Sophie', 'age': 7}\n",
        "\n",
        "'name' in spam.keys()"
      ]
    },
    {
      "cell_type": "code",
      "execution_count": 28,
      "metadata": {
        "colab": {
          "base_uri": "https://localhost:8080/"
        },
        "id": "QflKEzHS4YDd",
        "outputId": "8d8dbc30-7b93-4834-c3bd-9ce6096021f3"
      },
      "outputs": [
        {
          "data": {
            "text/plain": [
              "False"
            ]
          },
          "execution_count": 28,
          "metadata": {},
          "output_type": "execute_result"
        }
      ],
      "source": [
        "'Zophie' in spam.values()"
      ]
    },
    {
      "cell_type": "code",
      "execution_count": 32,
      "metadata": {
        "colab": {
          "base_uri": "https://localhost:8080/"
        },
        "id": "-IutdQ6A4e65",
        "outputId": "b0622bcb-b1a2-438c-adc4-ac2e74dfae1c"
      },
      "outputs": [
        {
          "data": {
            "text/plain": [
              "False"
            ]
          },
          "execution_count": 32,
          "metadata": {},
          "output_type": "execute_result"
        }
      ],
      "source": [
        "'color' in spam.keys()"
      ]
    },
    {
      "cell_type": "code",
      "execution_count": 33,
      "metadata": {
        "colab": {
          "base_uri": "https://localhost:8080/"
        },
        "id": "ZuQOWVdu4jIu",
        "outputId": "be3d1a85-9086-4a31-dc7f-4889f2acfee8"
      },
      "outputs": [
        {
          "data": {
            "text/plain": [
              "True"
            ]
          },
          "execution_count": 33,
          "metadata": {},
          "output_type": "execute_result"
        }
      ],
      "source": [
        "'color' not in spam.keys()"
      ]
    },
    {
      "cell_type": "code",
      "execution_count": 34,
      "metadata": {
        "colab": {
          "base_uri": "https://localhost:8080/"
        },
        "id": "AZU1oC864l9Z",
        "outputId": "3ba37430-ff55-4266-8ce3-19fa996cd4a2"
      },
      "outputs": [
        {
          "data": {
            "text/plain": [
              "False"
            ]
          },
          "execution_count": 34,
          "metadata": {},
          "output_type": "execute_result"
        }
      ],
      "source": [
        "'color' in spam"
      ]
    },
    {
      "cell_type": "markdown",
      "metadata": {
        "id": "SF9xhz744vtb"
      },
      "source": [
        "# **Exemplos Práticos**"
      ]
    },
    {
      "cell_type": "code",
      "execution_count": 35,
      "metadata": {
        "colab": {
          "base_uri": "https://localhost:8080/"
        },
        "id": "w_SNjw0H7GBK",
        "outputId": "63a2b5c1-4e90-425c-c578-e36677464d47"
      },
      "outputs": [
        {
          "name": "stdout",
          "output_type": "stream",
          "text": [
            "25\n"
          ]
        }
      ],
      "source": [
        "# Exemplo 1: Acessar Valor por Chave\n",
        "# Acesse o valor associado a uma chave específica em um dicionário.\n",
        "\n",
        "person = {'name': 'John', 'age': 25, 'city': 'New York'}\n",
        "print(person['age'])\n"
      ]
    },
    {
      "cell_type": "code",
      "execution_count": 36,
      "metadata": {
        "colab": {
          "base_uri": "https://localhost:8080/"
        },
        "id": "h6zPGBcF7NKj",
        "outputId": "d88cf08f-ae68-41b0-b772-671f9c1d0023"
      },
      "outputs": [
        {
          "name": "stdout",
          "output_type": "stream",
          "text": [
            "{'name': 'Alice', 'age': 20, 'grade': 'A'}\n"
          ]
        }
      ],
      "source": [
        "# Exemplo 2: Adicionar Elementos\n",
        "# Adicione um novo par chave-valor a um dicionário existente.\n",
        "\n",
        "student = {'name': 'Alice', 'age': 20}\n",
        "student['grade'] = 'A'\n",
        "print(student)\n"
      ]
    },
    {
      "cell_type": "code",
      "execution_count": 37,
      "metadata": {
        "colab": {
          "base_uri": "https://localhost:8080/"
        },
        "id": "yVLMENmF7WFH",
        "outputId": "6bd52ada-c0d9-4d34-def6-0215d32fb1af"
      },
      "outputs": [
        {
          "name": "stdout",
          "output_type": "stream",
          "text": [
            "We have apples!\n"
          ]
        }
      ],
      "source": [
        "# Exemplo 3: Verificar Existência de Chave\n",
        "# Verifique se uma chave específica existe em um dicionário.\n",
        "\n",
        "inventory = {'apples': 10, 'bananas': 5, 'oranges': 8}\n",
        "if 'apples' in inventory:\n",
        "    print(\"We have apples!\")\n"
      ]
    },
    {
      "cell_type": "code",
      "execution_count": 38,
      "metadata": {
        "colab": {
          "base_uri": "https://localhost:8080/"
        },
        "id": "Ax01yf_67eaU",
        "outputId": "4a5e1962-38db-4d5a-a466-e4c8ba43121e"
      },
      "outputs": [
        {
          "name": "stdout",
          "output_type": "stream",
          "text": [
            "{'title': 'Python Programming', 'pages': 350}\n"
          ]
        }
      ],
      "source": [
        "# Exemplo 4: Atualizar Valores\n",
        "# Atualize o valor associado a uma chave existente em um dicionário.\n",
        "\n",
        "book = {'title': 'Python Programming', 'pages': 300}\n",
        "book['pages'] = 350\n",
        "print(book)\n"
      ]
    },
    {
      "cell_type": "code",
      "execution_count": 39,
      "metadata": {
        "colab": {
          "base_uri": "https://localhost:8080/"
        },
        "id": "wfrCn0ps7l-5",
        "outputId": "a9889fbf-d81c-4af0-90f0-7e606090c678"
      },
      "outputs": [
        {
          "name": "stdout",
          "output_type": "stream",
          "text": [
            "{'theme': 'dark', 'language': 'English'}\n"
          ]
        }
      ],
      "source": [
        "# Exemplo 5: Remover Elemento\n",
        "# Remova um par chave-valor de um dicionário.\n",
        "\n",
        "settings = {'theme': 'dark', 'font_size': 12, 'language': 'English'}\n",
        "removed_value = settings.pop('font_size')\n",
        "print(settings)\n"
      ]
    },
    {
      "cell_type": "code",
      "execution_count": 40,
      "metadata": {
        "colab": {
          "base_uri": "https://localhost:8080/"
        },
        "id": "koj6Bj0Q7s_L",
        "outputId": "9f920a1d-7d6a-459f-de29-0a8bccac83a2"
      },
      "outputs": [
        {
          "name": "stdout",
          "output_type": "stream",
          "text": [
            "Keys: ['Math', 'Science', 'History']\n",
            "Values: [90, 85, 75]\n"
          ]
        }
      ],
      "source": [
        "# Exemplo 6: Chaves e Valores\n",
        "# Obtenha uma lista das chaves e dos valores de um dicionário.\n",
        "\n",
        "scores = {'Math': 90, 'Science': 85, 'History': 75}\n",
        "keys = list(scores.keys())\n",
        "values = list(scores.values())\n",
        "print(\"Keys:\", keys)\n",
        "print(\"Values:\", values)"
      ]
    },
    {
      "cell_type": "code",
      "execution_count": 41,
      "metadata": {
        "colab": {
          "base_uri": "https://localhost:8080/"
        },
        "id": "mBAinSiu7x6j",
        "outputId": "63714019-70b3-4872-aef0-94ee42a64031"
      },
      "outputs": [
        {
          "name": "stdout",
          "output_type": "stream",
          "text": [
            "burger: $5\n",
            "fries: $3\n",
            "drink: $2\n"
          ]
        }
      ],
      "source": [
        "# Exemplo 7: Iterar sobre Chaves e Valores\n",
        "# Itere sobre as chaves e os valores de um dicionário usando um loop.\n",
        "\n",
        "menu = {'burger': 5, 'fries': 3, 'drink': 2}\n",
        "for item, price in menu.items():\n",
        "    print(f\"{item}: ${price}\")\n"
      ]
    },
    {
      "cell_type": "code",
      "execution_count": 3,
      "metadata": {
        "colab": {
          "base_uri": "https://localhost:8080/"
        },
        "id": "80JiH3Ah7z0G",
        "outputId": "49574e0b-6fc1-40c2-b2b9-3f475664aa8a"
      },
      "outputs": [
        {
          "name": "stdout",
          "output_type": "stream",
          "text": [
            "Number of animals: 3\n"
          ]
        }
      ],
      "source": [
        "# Exemplo 8: Tamanho do Dicionário\n",
        "# Calcule o número de pares chave-valor em um dicionário.\n",
        "\n",
        "animals = {'dogs': 4, 'cats': 2, 'birds': 1}\n",
        "num_animals = len(animals)\n",
        "print(\"Number of animals:\", num_animals)\n"
      ]
    },
    {
      "cell_type": "code",
      "execution_count": 44,
      "metadata": {
        "colab": {
          "base_uri": "https://localhost:8080/"
        },
        "id": "RjuLENuX8FMN",
        "outputId": "1939837e-d642-49fe-b29a-71679d8f3f74"
      },
      "outputs": [
        {
          "name": "stdout",
          "output_type": "stream",
          "text": [
            "Average score: 82.33\n"
          ]
        }
      ],
      "source": [
        "# Exemplo 9: Dicionário de Notas\n",
        "# Crie um dicionário para armazenar notas de alunos e calcule a média.\n",
        "\n",
        "grades = {'Alice': 85, 'Bob': 70, 'Carol': 92}\n",
        "total_score = sum(grades.values())\n",
        "average_score = total_score / len(grades)\n",
        "#print(\"Average score:\", average_score)\n",
        "print(f\"Average score: {average_score:.2f}\" )\n"
      ]
    },
    {
      "cell_type": "code",
      "execution_count": 45,
      "metadata": {
        "colab": {
          "base_uri": "https://localhost:8080/"
        },
        "id": "LsLjAucL8Pe2",
        "outputId": "c0aa7e8f-bb6a-4058-c0fd-023088c1f160"
      },
      "outputs": [
        {
          "name": "stdout",
          "output_type": "stream",
          "text": [
            "{'a': 10, 'b': 15, 'c': 30}\n",
            "{'a': 10, 'b': 15, 'c': 30}\n"
          ]
        }
      ],
      "source": [
        "# Exemplo 10: Mesclar Dicionários\n",
        "# Mesclar dois dicionários em um único dicionário.\n",
        "\n",
        "dict1 = {'a': 10, 'b': 20}\n",
        "dict2 = {'b': 15, 'c': 30}\n",
        "# usando a técnica de \"desempacotamento de dicionário\"\n",
        "# ela é usada para desempacotar os itens de um dicionário\n",
        "# e passá-los como argumentos nomeados para uma função ou\n",
        "# para criar um novo dicionário combinando os itens de vários dicionários.\n",
        "merged_dict = {**dict1, **dict2}\n",
        "print(merged_dict)\n",
        "\n",
        "# usando o operador de união\n",
        "# a partir da versão Python 3.9\n",
        "merged_dict = dict1 | dict2\n",
        "print(merged_dict)"
      ]
    }
  ],
  "metadata": {
    "colab": {
      "provenance": []
    },
    "kernelspec": {
      "display_name": "Python 3",
      "name": "python3"
    },
    "language_info": {
      "codemirror_mode": {
        "name": "ipython",
        "version": 3
      },
      "file_extension": ".py",
      "mimetype": "text/x-python",
      "name": "python",
      "nbconvert_exporter": "python",
      "pygments_lexer": "ipython3",
      "version": "3.12.7"
    }
  },
  "nbformat": 4,
  "nbformat_minor": 0
}
